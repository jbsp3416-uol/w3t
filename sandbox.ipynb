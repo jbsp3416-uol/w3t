{
 "cells": [
  {
   "cell_type": "code",
   "execution_count": null,
   "metadata": {},
   "outputs": [
    {
     "data": {
      "text/plain": [
       "2"
      ]
     },
     "execution_count": 1,
     "metadata": {},
     "output_type": "execute_result"
    }
   ],
   "source": [
    "[1,2,3]"
   ]
  },
  {
   "cell_type": "code",
   "execution_count": 30,
   "metadata": {},
   "outputs": [
    {
     "name": "stdout",
     "output_type": "stream",
     "text": [
      "{'a': 2, 'b': 3}\n"
     ]
    }
   ],
   "source": [
    "#dict = {[1,2,3]:1, 'a':2} <- Error- unhasable type: List \n",
    "\n",
    "my_dict= {'a':2, 'b':3}\n",
    "\n",
    "print(my_dict)\n"
   ]
  },
  {
   "cell_type": "code",
   "execution_count": null,
   "metadata": {},
   "outputs": [],
   "source": [
    "#my_dict = dict(Alice=3)"
   ]
  },
  {
   "cell_type": "code",
   "execution_count": null,
   "metadata": {},
   "outputs": [
    {
     "data": {
      "text/plain": [
       "2"
      ]
     },
     "execution_count": 14,
     "metadata": {},
     "output_type": "execute_result"
    }
   ],
   "source": [
    "my_dict['a'] # if search for element not in dictionary, returns error"
   ]
  },
  {
   "cell_type": "code",
   "execution_count": null,
   "metadata": {},
   "outputs": [],
   "source": [
    "my_dict.get('a') # if search for element not in dictionary, returns nothing"
   ]
  },
  {
   "cell_type": "code",
   "execution_count": 20,
   "metadata": {},
   "outputs": [
    {
     "data": {
      "text/plain": [
       "25"
      ]
     },
     "execution_count": 20,
     "metadata": {},
     "output_type": "execute_result"
    }
   ],
   "source": [
    "ages= {'Alice':25, 'Bob':30, 'Charlie':35}\n",
    "\n",
    "ages.get('Alice')"
   ]
  },
  {
   "cell_type": "code",
   "execution_count": 23,
   "metadata": {},
   "outputs": [
    {
     "name": "stdout",
     "output_type": "stream",
     "text": [
      "Alice\n",
      "Bob\n",
      "Charlie\n"
     ]
    }
   ],
   "source": [
    "for name in ages.keys():\n",
    "    print(name)"
   ]
  },
  {
   "cell_type": "code",
   "execution_count": 24,
   "metadata": {},
   "outputs": [
    {
     "name": "stdout",
     "output_type": "stream",
     "text": [
      "25\n",
      "30\n",
      "35\n"
     ]
    }
   ],
   "source": [
    "for age in ages.values():\n",
    "    print(age)"
   ]
  },
  {
   "cell_type": "code",
   "execution_count": 26,
   "metadata": {},
   "outputs": [
    {
     "name": "stdout",
     "output_type": "stream",
     "text": [
      "Alice is 25 years old.\n",
      "Bob is 30 years old.\n",
      "Charlie is 35 years old.\n"
     ]
    }
   ],
   "source": [
    "for name, age in ages.items():\n",
    "    print(name, 'is', age, 'years old.')"
   ]
  },
  {
   "cell_type": "code",
   "execution_count": null,
   "metadata": {},
   "outputs": [
    {
     "name": "stdout",
     "output_type": "stream",
     "text": [
      "{'b': 1, 'a': 3, 'n': 2}\n"
     ]
    }
   ],
   "source": [
    "def histogram(s): # builds histogram count9ing frequency of each character\n",
    "\n",
    "    d= {}\n",
    "    for c in s:\n",
    "        d[c] = d.get(c,0) + 1 # increment count, defaulting to 0 if c is not found\n",
    "    return d\n",
    "\n",
    "print(histogram('banana'))"
   ]
  },
  {
   "cell_type": "code",
   "execution_count": null,
   "metadata": {},
   "outputs": [
    {
     "name": "stdout",
     "output_type": "stream",
     "text": [
      "b\n"
     ]
    }
   ],
   "source": [
    "def reverse_lookup(d, v): # returns a key for a sepcific value (if value found)\n",
    "    for key in d:\n",
    "        if d[key]==v:\n",
    "            return key\n",
    "    raise LookupError('Value not found.') # 'raise' handles situations by providing a error you write\n",
    "\n",
    "d= {'a':1, 'b':2, 'c':3}\n",
    "print(reverse_lookup(d,2))"
   ]
  },
  {
   "cell_type": "code",
   "execution_count": 31,
   "metadata": {},
   "outputs": [
    {
     "data": {
      "text/plain": [
       "'b'"
      ]
     },
     "execution_count": 31,
     "metadata": {},
     "output_type": "execute_result"
    }
   ],
   "source": [
    "reverse_lookup(my_dict, 3)"
   ]
  },
  {
   "cell_type": "code",
   "execution_count": 29,
   "metadata": {},
   "outputs": [
    {
     "name": "stdout",
     "output_type": "stream",
     "text": [
      "{1: [' a ', ' c '], 2: [' b ']}\n"
     ]
    }
   ],
   "source": [
    "def invert_dict(d):\n",
    "    inverse= {}\n",
    "    for key in d:\n",
    "        val= d[key]\n",
    "        inverse.setdefault(val, []).append(key)\n",
    "    return inverse\n",
    "\n",
    "d = { \" a \" : 1 , \" b \" : 2 , \" c \" : 1}\n",
    "print(invert_dict(d))"
   ]
  },
  {
   "cell_type": "code",
   "execution_count": null,
   "metadata": {},
   "outputs": [
    {
     "name": "stdout",
     "output_type": "stream",
     "text": [
      "(1, 2, 3)\n",
      "1\n"
     ]
    }
   ],
   "source": [
    "# creating a tuple:\n",
    "t= (1,2,3)\n",
    "print(t)\n",
    "\n",
    "#indexing starts at 0 same as lists\n",
    "print(t[0])"
   ]
  },
  {
   "cell_type": "code",
   "execution_count": 35,
   "metadata": {},
   "outputs": [],
   "source": [
    "#assigning to multiple variables\n",
    "a,b=5,10\n",
    "#swapping variables\n",
    "a,b=b,a"
   ]
  },
  {
   "cell_type": "code",
   "execution_count": null,
   "metadata": {},
   "outputs": [],
   "source": [
    "def sum_and_product(x,y):\n",
    "    return x+y, x*y # this uses tuples here"
   ]
  },
  {
   "cell_type": "code",
   "execution_count": null,
   "metadata": {},
   "outputs": [],
   "source": [
    "#unpacking a tuple example:\n",
    "sum_val, prod_val = sum_and_product(3,5)"
   ]
  },
  {
   "cell_type": "code",
   "execution_count": null,
   "metadata": {},
   "outputs": [
    {
     "name": "stdout",
     "output_type": "stream",
     "text": [
      "{(35.6895, 139.6917): ' Tokyo ', (40.7128, -74.006): ' New York '}\n"
     ]
    }
   ],
   "source": [
    "#Using tuples as keys in dictionaries:\n",
    "\n",
    "locations={}\n",
    "locations [(35.6895 , 139.6917) ] = \" Tokyo \"           #tuples used to store longituted and latitude \n",
    "locations [(40.7128 , -74.0060) ] = \" New York \"        #for each location\n",
    "\n",
    "print(locations)"
   ]
  }
 ],
 "metadata": {
  "kernelspec": {
   "display_name": "Python 3",
   "language": "python",
   "name": "python3"
  },
  "language_info": {
   "codemirror_mode": {
    "name": "ipython",
    "version": 3
   },
   "file_extension": ".py",
   "mimetype": "text/x-python",
   "name": "python",
   "nbconvert_exporter": "python",
   "pygments_lexer": "ipython3",
   "version": "3.12.1"
  }
 },
 "nbformat": 4,
 "nbformat_minor": 2
}
